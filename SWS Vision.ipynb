{
 "cells": [
  {
   "cell_type": "code",
   "execution_count": 1,
   "id": "ba9b29ca",
   "metadata": {},
   "outputs": [],
   "source": [
    "# Importación de librerías\n",
    "import os\n",
    "import numpy as np\n",
    "import cv2\n",
    "import tensorflow as tf\n",
    "from tensorflow.keras.models import load_model\n",
    "from tensorflow.keras.preprocessing import image"
   ]
  },
  {
   "cell_type": "code",
   "execution_count": 2,
   "id": "74251411",
   "metadata": {},
   "outputs": [],
   "source": [
    "categorias = ['vidrio', 'carton', 'papel', 'plastico']"
   ]
  },
  {
   "cell_type": "code",
   "execution_count": 3,
   "id": "48c7bffc",
   "metadata": {},
   "outputs": [
    {
     "name": "stderr",
     "output_type": "stream",
     "text": [
      "c:\\Users\\jeman\\anaconda3\\Lib\\site-packages\\keras\\src\\layers\\convolutional\\base_conv.py:107: UserWarning: Do not pass an `input_shape`/`input_dim` argument to a layer. When using Sequential models, prefer using an `Input(shape)` object as the first layer in the model instead.\n",
      "  super().__init__(activity_regularizer=activity_regularizer, **kwargs)\n",
      "c:\\Users\\jeman\\anaconda3\\Lib\\site-packages\\keras\\src\\optimizers\\base_optimizer.py:33: UserWarning: Argument `decay` is no longer supported and will be ignored.\n",
      "  warnings.warn(\n",
      "WARNING:absl:Compiled the loaded model, but the compiled metrics have yet to be built. `model.compile_metrics` will be empty until you train or evaluate the model.\n",
      "WARNING:absl:Error in loading the saved optimizer state. As a result, your model is starting with a freshly initialized optimizer.\n"
     ]
    }
   ],
   "source": [
    "# Importación del modelo\n",
    "modelo = load_model('modelo.h5')"
   ]
  },
  {
   "cell_type": "code",
   "execution_count": 4,
   "id": "ab080bac",
   "metadata": {},
   "outputs": [
    {
     "name": "stdout",
     "output_type": "stream",
     "text": [
      "\u001b[1m1/1\u001b[0m \u001b[32m━━━━━━━━━━━━━━━━━━━━\u001b[0m\u001b[37m\u001b[0m \u001b[1m0s\u001b[0m 181ms/step\n",
      "Probabilidades por categoría: \n",
      "vidrio: [9.9697161e-01 3.7827151e-04 3.8661720e-04 2.2635136e-03]\n",
      "\n",
      "La categoría es: vidrio[0] con una probabilidad de 0.99697\n"
     ]
    }
   ],
   "source": [
    "# Prueba con imagen\n",
    "# Carga y procesamiento de la imagen\n",
    "ruta_imagen = '4Clases/class_0/brown-glass1.jpg'\n",
    "imagen = image.load_img(ruta_imagen, target_size=(32, 32))\n",
    "imagen_arreglo = image.img_to_array(imagen)\n",
    "imagen_arreglo = np.expand_dims(imagen_arreglo, axis=0)\n",
    "imagen_arreglo /= 255.0\n",
    "\n",
    "# Predicción\n",
    "prediccion = modelo.predict(imagen_arreglo)\n",
    "categoria = np.argmax(prediccion)\n",
    "\n",
    "print(\"Probabilidades por categoría: \")\n",
    "for categoria, probabilidad in enumerate(prediccion):\n",
    "    print(f\"{categorias[categoria]}: {probabilidad}\")\n",
    "\n",
    "print(f'\\nLa categoría es: {categorias[categoria]}[{categoria}] con una probabilidad de {np.max(prediccion):.5f}')"
   ]
  },
  {
   "cell_type": "markdown",
   "id": "9608ad2f",
   "metadata": {},
   "source": [
    "# Visión por computadora"
   ]
  },
  {
   "cell_type": "code",
   "execution_count": 5,
   "id": "e60173a1",
   "metadata": {},
   "outputs": [],
   "source": [
    "# Crear las carpetas de clasificación si no existen\n",
    "for categoria in categorias:\n",
    "    if not os.path.exists(categoria):\n",
    "        os.makedirs(categoria)"
   ]
  },
  {
   "cell_type": "code",
   "execution_count": 1,
   "id": "d6cd2c88",
   "metadata": {
    "jupyter": {
     "is_executing": true
    }
   },
   "outputs": [
    {
     "ename": "NameError",
     "evalue": "name 'cv2' is not defined",
     "output_type": "error",
     "traceback": [
      "\u001b[1;31m---------------------------------------------------------------------------\u001b[0m",
      "\u001b[1;31mNameError\u001b[0m                                 Traceback (most recent call last)",
      "Cell \u001b[1;32mIn[1], line 2\u001b[0m\n\u001b[0;32m      1\u001b[0m \u001b[38;5;66;03m# Inicializar la captura de video (0 para la cámara por defecto)\u001b[39;00m\n\u001b[1;32m----> 2\u001b[0m camara \u001b[38;5;241m=\u001b[39m cv2\u001b[38;5;241m.\u001b[39mVideoCapture(\u001b[38;5;241m0\u001b[39m)\n\u001b[0;32m      4\u001b[0m \u001b[38;5;66;03m# Proceso de clasificación\u001b[39;00m\n\u001b[0;32m      5\u001b[0m \u001b[38;5;28;01mwhile\u001b[39;00m \u001b[38;5;28;01mTrue\u001b[39;00m:\n\u001b[0;32m      6\u001b[0m     \u001b[38;5;66;03m# Capturar frame por frame\u001b[39;00m\n",
      "\u001b[1;31mNameError\u001b[0m: name 'cv2' is not defined"
     ]
    }
   ],
   "source": [
    "# Umbral de probabilidad máxima\n",
    "umbral_probabilidad = 0.9\n",
    "\n",
    "# Registro de imágenes\n",
    "contador_imagenes = {categoria: 0 for categoria in categorias}\n",
    "\n",
    "# Inicializar la captura de video (0 para la cámara por defecto)\n",
    "camara = cv2.VideoCapture(0)\n",
    "\n",
    "# Proceso de clasificación\n",
    "while True:\n",
    "    # Capturar frame por frame\n",
    "    retorno, frame = camara.read()\n",
    "\n",
    "    # Verificar si el frame fue capturado correctamente\n",
    "    if not retorno:\n",
    "        break\n",
    "\n",
    "    # Preprocesar el frame\n",
    "    imagen = cv2.resize(frame, (32, 32))                # Ajustar el tamaño según lo que espera tu modelo\n",
    "    imagen_arreglo = np.expand_dims(imagen, axis=0)     # Expandir las dimensiones\n",
    "    imagen_arreglo = imagen_arreglo / 255.0             # Normalizar la imagen si es necesario\n",
    "\n",
    "    # Hacer la predicción\n",
    "    prediccion = modelo.predict(imagen_arreglo)\n",
    "    categoria = np.argmax(prediccion)\n",
    "    probabilidad_maxima = np.max(prediccion)\n",
    "\n",
    "    # Mapeo del índice a la categoría\n",
    "    nombre_categoria = categorias[categoria]\n",
    "\n",
    "    # Verificar si la probabilidad máxima supera el umbral\n",
    "    if probabilidad_maxima >= umbral_probabilidad:\n",
    "        # Guardar la imagen en la carpeta correspondiente\n",
    "        contador_imagenes[nombre_categoria] += 1\n",
    "        nombre_imagen = f\"{nombre_categoria}_{contador_imagenes[nombre_categoria]}.png\"\n",
    "        ruta_imagen = os.path.join(nombre_categoria, nombre_imagen)\n",
    "        # Guardar la imagen original (frame)\n",
    "        cv2.imwrite(ruta_imagen, frame)\n",
    "\n",
    "        # Mostrar el índice de la categoría en la imagen\n",
    "        cv2.putText(frame, f'Categoría: {nombre_categoria}', (10, 30), cv2.FONT_HERSHEY_SIMPLEX, 1, (0, 255, 0), 2, cv2.LINE_AA)\n",
    "\n",
    "    # Mostrar el frame con la predicción\n",
    "    cv2.imshow('Predicción', frame)\n",
    "\n",
    "    # Romper el loop con la tecla 'q' o el num 1\n",
    "    if cv2.waitKey(1) & 0xFF == ord('q'):\n",
    "        break\n",
    "\n",
    "camara.release()\n",
    "cv2.destroyAllWindows()"
   ]
  }
 ],
 "metadata": {
  "kernelspec": {
   "display_name": "Python 3 (ipykernel)",
   "language": "python",
   "name": "python3"
  },
  "language_info": {
   "codemirror_mode": {
    "name": "ipython",
    "version": 3
   },
   "file_extension": ".py",
   "mimetype": "text/x-python",
   "name": "python",
   "nbconvert_exporter": "python",
   "pygments_lexer": "ipython3",
   "version": "3.11.5"
  }
 },
 "nbformat": 4,
 "nbformat_minor": 5
}
