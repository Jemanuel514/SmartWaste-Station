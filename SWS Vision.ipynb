{
 "cells": [
  {
   "cell_type": "code",
   "execution_count": null,
   "id": "8a40eb8c",
   "metadata": {},
   "outputs": [],
   "source": [
    "import tensorflow as tf\n",
    "from tensorflow.keras.models import load_model\n",
    "from tensorflow.keras.preprocessing import image\n",
    "import numpy as np\n",
    "\n",
    "model = load_model('modelo.h5')\n",
    "\n",
    "img_path = 'vidrio.jpg'\n",
    "img = image.load_img(img_path, target_size=(32, 32))\n",
    "\n",
    "img_array = image.img_to_array(img)\n",
    "\n",
    "img_array = np.expand_dims(img_array, axis=0)\n",
    "\n",
    "img_array /= 255.0\n",
    "\n",
    "prediccion = model.predict(img_array)\n",
    "\n",
    "print(prediccion)\n",
    "\n",
    "categoriaM = np.argmax(prediccion)\n",
    "\n",
    "print(f'El índice de la categoría predicha es: {categoriaM} con una probabilidad de {prediccion[0][categoria_mayor_probabilidad]:.2f}')"
   ]
  },
  {
   "cell_type": "code",
   "execution_count": null,
   "id": "d6cd2c88",
   "metadata": {},
   "outputs": [],
   "source": [
    "import cv2\n",
    "import tensorflow as tf\n",
    "from tensorflow.keras.models import load_model\n",
    "import numpy as np\n",
    "\n",
    "# Cargar el modelo\n",
    "model = load_model('modelo.h5')\n",
    "\n",
    "# Inicializar la captura de video (0 para la cámara por defecto)\n",
    "cap = cv2.VideoCapture(0)\n",
    "\n",
    "while True:\n",
    "    # Capturar frame por frame\n",
    "    ret, frame = cap.read()\n",
    "\n",
    "    # Verificar si el frame fue capturado correctamente\n",
    "    if not ret:\n",
    "        break\n",
    "\n",
    "    # Preprocesar el frame\n",
    "    img = cv2.resize(frame, (32, 32))  # Ajusta el tamaño según lo que espera tu modelo\n",
    "    img_array = np.expand_dims(img, axis=0)  # Expandir las dimensiones\n",
    "    img_array = img_array / 255.0  # Normalizar la imagen si es necesario\n",
    "\n",
    "    # Hacer la predicción\n",
    "    prediccion = model.predict(img_array)\n",
    "    categoriaM = np.argmax(prediccion)\n",
    "\n",
    "    # Mostrar el índice de la categoría en la imagen\n",
    "    cv2.putText(frame, f'Categoria: {categoriaM}', (10, 30), cv2.FONT_HERSHEY_SIMPLEX, 1, (0, 255, 0), 2, cv2.LINE_AA)\n",
    "\n",
    "    # Mostrar el frame con la predicción\n",
    "    cv2.imshow('Prediccion', frame)\n",
    "\n",
    "    # Romper el loop con la tecla 'q' o el num 1\n",
    "    if cv2.waitKey(1) & 0xFF == ord('q'):\n",
    "        break\n",
    "\n",
    "cap.release()\n",
    "cv2.destroyAllWindows()\n"
   ]
  }
 ],
 "metadata": {
  "kernelspec": {
   "display_name": "Python 3 (ipykernel)",
   "language": "python",
   "name": "python3"
  },
  "language_info": {
   "codemirror_mode": {
    "name": "ipython",
    "version": 3
   },
   "file_extension": ".py",
   "mimetype": "text/x-python",
   "name": "python",
   "nbconvert_exporter": "python",
   "pygments_lexer": "ipython3",
   "version": "3.11.5"
  }
 },
 "nbformat": 4,
 "nbformat_minor": 5
}
